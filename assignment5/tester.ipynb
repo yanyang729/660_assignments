{
 "cells": [
  {
   "cell_type": "code",
   "execution_count": 45,
   "metadata": {
    "collapsed": true
   },
   "outputs": [],
   "source": [
    "from selenium import webdriver\n",
    "from selenium.webdriver.common.action_chains import ActionChains\n",
    "from selenium.webdriver.common.keys import Keys\n",
    "import bs4\n",
    "import time\n",
    "import datetime\n",
    "from unidecode import unidecode\n",
    "import pandas as pd"
   ]
  },
  {
   "cell_type": "code",
   "execution_count": 48,
   "metadata": {
    "collapsed": true
   },
   "outputs": [],
   "source": [
    "class ActionChains(ActionChains):\n",
    "    def wait(self, time_s):\n",
    "        self._actions.append(lambda: time.sleep(time_s))\n",
    "        return self"
   ]
  },
  {
   "cell_type": "code",
   "execution_count": 71,
   "metadata": {
    "collapsed": false
   },
   "outputs": [],
   "source": [
    "BASE_URL = 'https://www.google.com/flights/explore/'\n",
    "URL = BASE_URL + '#explore;d=2017-03-22'\n",
    "driver = webdriver.Chrome('./chromedriver')\n",
    "driver.get(URL)\n",
    "time.sleep(5)\n",
    "from_place = 'nyc'\n",
    "to_place = 'Norway'\n",
    "# input from place\n",
    "driver.find_elements_by_css_selector('.LJTSM3-p-a')[0].click()\n",
    "ActionChains(driver).wait(1).send_keys(from_place).perform()\n",
    "ActionChains(driver).wait(1).send_keys(Keys.ENTER).perform()\n",
    "# input to place\n",
    "driver.find_elements_by_css_selector('.LJTSM3-p-a')[1].click()\n",
    "ActionChains(driver).wait(1).send_keys(to_place).perform()\n",
    "ActionChains(driver).wait(1).send_keys(Keys.ENTER).perform()\n",
    "\n",
    "time.sleep(3)\n",
    "\n",
    "cities = driver.find_elements_by_css_selector('.LJTSM3-v-c')\n",
    "city_names = [unidecode(n.text) for n in cities]\n",
    "\n",
    "city_name = 'Alesund'\n",
    "n_th = None\n",
    "for i, name in enumerate(city_names):\n",
    "    if city_name.lower() in name.lower():\n",
    "        n_th = i \n",
    "assert n_th is not None\n"
   ]
  },
  {
   "cell_type": "code",
   "execution_count": 72,
   "metadata": {
    "collapsed": false
   },
   "outputs": [],
   "source": [
    "target = driver.find_elements_by_class_name('LJTSM3-v-d')[n_th]\n",
    "bars = target.find_elements_by_class_name('LJTSM3-w-x')\n",
    "\n",
    "for bar in bars:\n",
    "    ActionChains(driver).wait(0.01).move_to_element(bar).perform()"
   ]
  },
  {
   "cell_type": "code",
   "execution_count": 86,
   "metadata": {
    "collapsed": false
   },
   "outputs": [],
   "source": [
    "driver.find_elements_by_class_name('LJTSM3-w-D')[0].click()\n",
    "driver.find_elements_by_class_name('LJTSM3-w-D')[0].click()"
   ]
  },
  {
   "cell_type": "code",
   "execution_count": 88,
   "metadata": {
    "collapsed": true
   },
   "outputs": [],
   "source": [
    "target = driver.find_elements_by_class_name('LJTSM3-v-d')[n_th]\n",
    "bars = target.find_elements_by_class_name('LJTSM3-w-x')\n",
    "for bar in bars[:30]:\n",
    "    ActionChains(driver).wait(0.01).move_to_element(bar).perform()"
   ]
  },
  {
   "cell_type": "code",
   "execution_count": null,
   "metadata": {
    "collapsed": true
   },
   "outputs": [],
   "source": []
  },
  {
   "cell_type": "code",
   "execution_count": null,
   "metadata": {
    "collapsed": true
   },
   "outputs": [],
   "source": [
    "driver.quit()"
   ]
  },
  {
   "cell_type": "code",
   "execution_count": 54,
   "metadata": {
    "collapsed": false
   },
   "outputs": [],
   "source": [
    "bar = driver.find_element_by_css_selector('#root > div.LJTSM3-f-a > div.LJTSM3-f-e > div > div:nth-child(2) > div:nth-child(1) > div > div.LJTSM3-v-m > div:nth-child(2) > div > div.LJTSM3-w-p > div.LJTSM3-w-o > div:nth-child(39)')\n",
    "ActionChains(driver).move_to_element(bar).perform()"
   ]
  },
  {
   "cell_type": "code",
   "execution_count": 55,
   "metadata": {
    "collapsed": false
   },
   "outputs": [
    {
     "data": {
      "text/plain": [
       "845"
      ]
     },
     "execution_count": 55,
     "metadata": {},
     "output_type": "execute_result"
    }
   ],
   "source": [
    "int(driver.find_element_by_class_name('LJTSM3-w-w').text.replace('$',''))\n"
   ]
  },
  {
   "cell_type": "code",
   "execution_count": 39,
   "metadata": {
    "collapsed": false
   },
   "outputs": [
    {
     "data": {
      "text/plain": [
       "u'Sat May 6 - Tue May 9'"
      ]
     },
     "execution_count": 39,
     "metadata": {},
     "output_type": "execute_result"
    }
   ],
   "source": [
    "driver.find_element_by_class_name('LJTSM3-w-h').text"
   ]
  },
  {
   "cell_type": "code",
   "execution_count": null,
   "metadata": {
    "collapsed": true
   },
   "outputs": [],
   "source": []
  }
 ],
 "metadata": {
  "kernelspec": {
   "display_name": "Python 2",
   "language": "python",
   "name": "python2"
  },
  "language_info": {
   "codemirror_mode": {
    "name": "ipython",
    "version": 2
   },
   "file_extension": ".py",
   "mimetype": "text/x-python",
   "name": "python",
   "nbconvert_exporter": "python",
   "pygments_lexer": "ipython2",
   "version": "2.7.13"
  }
 },
 "nbformat": 4,
 "nbformat_minor": 2
}
