{
 "cells": [
  {
   "cell_type": "code",
   "execution_count": 427,
   "metadata": {
    "collapsed": true,
    "deletable": true,
    "editable": true
   },
   "outputs": [],
   "source": [
    "from selenium import webdriver\n",
    "from selenium.webdriver.common.action_chains import ActionChains\n",
    "from selenium.webdriver.common.keys import Keys\n",
    "import time\n",
    "import datetime\n",
    "from unidecode import unidecode\n",
    "from sklearn.cluster import DBSCAN\n",
    "from sklearn.preprocessing import StandardScaler\n",
    "import numpy as np\n",
    "import matplotlib.pyplot as plt\n",
    "from dateutil.parser import parse\n",
    "import pandas as pd\n",
    "import random\n",
    "import matplotlib\n",
    "import warnings\n",
    "warnings.filterwarnings('ignore')\n",
    "matplotlib.style.use('ggplot')\n",
    "from scipy.spatial import distance\n",
    "\n",
    "BASE_URL = 'https://www.google.com/flights/explore/'\n",
    "\n",
    "\n",
    "# add wait method to actionchains class\n",
    "# http://stackoverflow.com/questions/36572190/specify-wait-time-between-actions-when-using-selenium-actionchains\n",
    "class ActionChains(ActionChains):\n",
    "    def wait(self, time_s):\n",
    "        self._actions.append(lambda: time.sleep(time_s))\n",
    "        return self\n",
    "\n",
    "\n",
    "# Task #1\n",
    "# trick:\n",
    "# 1. need to update date after input FROM&TO cities. Otherwise it will overwrite the date.\n",
    "# 2. add sleep time to almost every move in order to make next move until the web is full loaded\n",
    "def scrape_data(start_date, from_place, to_place, city_name):\n",
    "    \"\"\"\n",
    "    used for initializing the start_date and typing from_place, to_place into the search box.\n",
    "\n",
    "    :param start_date:\n",
    "    this is a datetime object for the start date that you should use in your query to Google\n",
    "    Flight explorer.\n",
    "\n",
    "    :param from_place:\n",
    "    this is a string with the name of the origin of the flights\n",
    "\n",
    "    :param to_place:\n",
    "    this is a string with the name of the regional destination of the flights, e.g. India, South America,\n",
    "    Scandinavia This is what would be typed into the To field on the Flight Explorer page.\n",
    "\n",
    "    :param city_name:\n",
    "    this is a string for the name of the city who's data that you should actually scrape\n",
    "\n",
    "    :return:\n",
    "    selenium driver, and the index of the target city\n",
    "    \"\"\"\n",
    "\n",
    "    driver = webdriver.Chrome('./chromedriver')\n",
    "    driver.get(BASE_URL)\n",
    "\n",
    "    time.sleep(4)\n",
    "\n",
    "    # input from place\n",
    "    driver.find_elements_by_css_selector('.LJTSM3-p-a')[0].click()\n",
    "    ActionChains(driver).wait(1).send_keys(from_place).perform()\n",
    "    ActionChains(driver).wait(1).send_keys(Keys.ENTER).perform()\n",
    "    # input to place\n",
    "    driver.find_elements_by_css_selector('.LJTSM3-p-a')[1].click()\n",
    "    ActionChains(driver).wait(1).send_keys(to_place).perform()\n",
    "    ActionChains(driver).wait(1).send_keys(Keys.ENTER).perform()\n",
    "\n",
    "    time.sleep(2)\n",
    "\n",
    "    start_date_str = start_date.strftime('%Y-%m-%d')\n",
    "    URL = driver.current_url[:-10] + start_date_str\n",
    "    driver.get(URL)\n",
    "\n",
    "    time.sleep(2)\n",
    "\n",
    "    # manage time difference\n",
    "    len_of_little_bar = driver.find_elements_by_class_name('LJTSM3-w-x')[0].get_attribute('style').split('height:')[-1].replace(';','').strip()\n",
    "    if len_of_little_bar == '5px':\n",
    "        start_date_str = (start_date + datetime.timedelta(days=1)).strftime('%Y-%m-%d')\n",
    "        URL = driver.current_url[:-10] + start_date_str\n",
    "        driver.get(URL)\n",
    "    time.sleep(2)\n",
    "\n",
    "    # find the location of target city\n",
    "    cities = driver.find_elements_by_css_selector('.LJTSM3-v-c')\n",
    "    city_names = [unidecode(n.text) for n in cities]\n",
    "    n_th = None\n",
    "    for i, name in enumerate(city_names):\n",
    "        if city_name.lower() in name.lower():\n",
    "            n_th = i\n",
    "\n",
    "    target = driver.find_elements_by_class_name('LJTSM3-v-d')[n_th]\n",
    "    bars = target.find_elements_by_class_name('LJTSM3-w-x')\n",
    "    prices = []\n",
    "    dates = []\n",
    "    time.sleep(2)\n",
    "\n",
    "    for bar in bars:\n",
    "        ActionChains(driver).wait(0.01).move_to_element(bar).perform()\n",
    "        price = target.find_element_by_class_name('LJTSM3-w-k').find_elements_by_tag_name('div')[0].text.replace('$','')\n",
    "        date = target.find_element_by_class_name('LJTSM3-w-k').find_elements_by_tag_name('div')[1].text\n",
    "        prices.append(price)\n",
    "        dates.append(date)\n",
    "\n",
    "    df = pd.DataFrame({'Date_of_Flight':dates,'Price':prices})\n",
    "    df.Price = df.Price.apply(lambda x: int(x.replace(',','')))\n",
    "    driver.quit()\n",
    "    return df\n",
    "\n",
    "\n",
    "# Task #2\n",
    "# trick:\n",
    "# 1. when click to see the rest 30 days, the displayed order of cities will change\n",
    "# 2. somehow you cannot click the page-down arrow of the city you are scraping, need to click that of another one.\n",
    "def scrape_data_90(start_date, from_place, to_place, city_name):\n",
    "    \"\"\"\n",
    "    :param start_date: same as above\n",
    "    :param from_place: same as above\n",
    "    :param to_place: same as above\n",
    "    :param city_name: same as above\n",
    "    :return: a dataframe with 90 rows and with two columns \"Date_of_Flight\" and \"Price.\"\n",
    "    \"\"\"\n",
    "    driver = webdriver.Chrome('./chromedriver')\n",
    "    driver.get(BASE_URL)\n",
    "\n",
    "    time.sleep(4)\n",
    "\n",
    "    # input from place\n",
    "    driver.find_elements_by_css_selector('.LJTSM3-p-a')[0].click()\n",
    "    ActionChains(driver).wait(1).send_keys(from_place).perform()\n",
    "    ActionChains(driver).wait(1).send_keys(Keys.ENTER).perform()\n",
    "    # input to place\n",
    "    driver.find_elements_by_css_selector('.LJTSM3-p-a')[1].click()\n",
    "    ActionChains(driver).wait(1).send_keys(to_place).perform()\n",
    "    ActionChains(driver).wait(1).send_keys(Keys.ENTER).perform()\n",
    "\n",
    "    time.sleep(2)\n",
    "\n",
    "    start_date_str = start_date.strftime('%Y-%m-%d')\n",
    "    URL = driver.current_url[:-10] + start_date_str\n",
    "    driver.get(URL)\n",
    "\n",
    "    time.sleep(2)\n",
    "\n",
    "    # manage time difference\n",
    "    len_of_little_bar = driver.find_elements_by_class_name('LJTSM3-w-x')[0].get_attribute('style').split('height:')[-1].replace(';','').strip()\n",
    "    if len_of_little_bar == '5px':\n",
    "        start_date_str = (start_date + datetime.timedelta(days=1)).strftime('%Y-%m-%d')\n",
    "        URL = driver.current_url[:-10] + start_date_str\n",
    "        driver.get(URL)\n",
    "    time.sleep(2)\n",
    "\n",
    "    # find the location of target city\n",
    "    cities = driver.find_elements_by_css_selector('.LJTSM3-v-c')\n",
    "    city_names = [unidecode(n.text) for n in cities]\n",
    "    n_th = None\n",
    "    for i, name in enumerate(city_names):\n",
    "        if city_name.lower() in name.lower():\n",
    "            n_th = i\n",
    "\n",
    "    total = len(city_names)\n",
    "\n",
    "    target = driver.find_elements_by_class_name('LJTSM3-v-d')[n_th]\n",
    "    bars = target.find_elements_by_class_name('LJTSM3-w-x')\n",
    "    prices = []\n",
    "    dates = []\n",
    "    time.sleep(2)\n",
    "\n",
    "    for bar in bars:\n",
    "        ActionChains(driver).wait(0.01).move_to_element(bar).perform()\n",
    "        price = target.find_element_by_class_name('LJTSM3-w-k').find_elements_by_tag_name('div')[0].text.replace('$','')\n",
    "        date = target.find_element_by_class_name('LJTSM3-w-k').find_elements_by_tag_name('div')[1].text\n",
    "        prices.append(price)\n",
    "        dates.append(date)\n",
    "\n",
    "    page_down_botton_index = random.choice([x for x in range(total) if x != n_th])\n",
    "    time.sleep(2)\n",
    "    driver.find_elements_by_class_name('LJTSM3-w-D')[page_down_botton_index].click()\n",
    "    time.sleep(2)\n",
    "    driver.find_elements_by_class_name('LJTSM3-w-D')[page_down_botton_index].click()\n",
    "    time.sleep(2)\n",
    "\n",
    "    # order changed, so again, find the location of target city\n",
    "    cities = driver.find_elements_by_css_selector('.LJTSM3-v-c')\n",
    "    city_names = [unidecode(n.text) for n in cities]\n",
    "    n_th = None\n",
    "    for i, name in enumerate(city_names):\n",
    "        if city_name.lower() in name.lower():\n",
    "            n_th = i\n",
    "    time.sleep(2)\n",
    "\n",
    "    target = driver.find_elements_by_class_name('LJTSM3-v-d')[n_th]\n",
    "    bars = target.find_elements_by_class_name('LJTSM3-w-x')\n",
    "    for bar in bars[:30]:\n",
    "        ActionChains(driver).wait(0.01).move_to_element(bar).perform()\n",
    "        price = driver.find_element_by_class_name('LJTSM3-w-w').text.replace('$','')\n",
    "        date = driver.find_element_by_class_name('LJTSM3-w-h').text\n",
    "        prices.append(price)\n",
    "        dates.append(date)\n",
    "    df = pd.DataFrame({'Date_of_Flight':dates,'Price':prices})\n",
    "    df.Price = df.Price.apply(lambda x: int(x.replace(',','')))\n",
    "    driver.quit()\n",
    "    return df\n",
    "\n",
    "# task #3 part 1\n",
    "def task_3_dbscan(flight_data):\n",
    "    \"\"\"\n",
    "    :param flight_data: a datefrome\n",
    "    :return: a dateframe\n",
    "    \"\"\"\n",
    "    df = flight_data\n",
    "    start_date = parse(df.Date_of_Flight[0].split('-')[0].strip())\n",
    "\n",
    "    df.Date_of_Flight = df.Date_of_Flight.apply(lambda x: (parse(x.split('-')[0].strip())- parse(df.Date_of_Flight[0].split('-')[0].strip())).days+1)\n",
    "\n",
    "    X = StandardScaler().fit_transform(df[['Date_of_Flight', 'Price']])\n",
    "    db = DBSCAN(eps=.3, min_samples=6).fit(X)\n",
    "\n",
    "    labels = db.labels_\n",
    "    clusters = len(set(labels))\n",
    "    unique_labels = set(labels)\n",
    "    colors = plt.cm.Spectral(np.linspace(0, 1, len(unique_labels)))\n",
    "\n",
    "    plt.subplots(figsize=(12,8))\n",
    "\n",
    "    for k, c in zip(unique_labels, colors):\n",
    "        class_member_mask = (labels == k)\n",
    "        xy = X[class_member_mask]\n",
    "        plt.plot(xy[:, 0], xy[:, 1], 'o', markerfacecolor=c,\n",
    "                markeredgecolor='k', markersize=14)\n",
    "\n",
    "    plt.title(\"Total Clusters: {}\".format(clusters), fontsize=14, y=1.01)\n",
    "\n",
    "    plt.savefig('task_3_dbscan.png')\n",
    "\n",
    "    df['dbscan_labels'] = db.labels_\n",
    "\n",
    "    # find closest cluster\n",
    "    df_encoded = pd.DataFrame(np.concatenate((X,db.labels_.reshape(-1,1)),axis=1))\n",
    "    df_encoded.columns = ['Date_of_Flight','Price','dbscan_labels']\n",
    "    df_encoded.head(5)\n",
    "    df_agged = df_encoded.groupby('dbscan_labels')['Date_of_Flight','Price'].agg(['min','mean','count']).copy()\n",
    "\n",
    "    lowest_in_outliers = (df_encoded.Date_of_Flight[df_encoded.Price == df_agged.Price.iloc[0,0]].values[0],\n",
    "                          df_agged.Price.iloc[0,0])\n",
    "\n",
    "    x = df_agged.Date_of_Flight.iloc[1:,1].tolist()\n",
    "    y = df_agged.Price.iloc[1:,1].tolist()\n",
    "    mean_clusters = [(x,y) for x,y in zip(x,y)]\n",
    "    min_cluster_index = 0\n",
    "    min_dist = 9999\n",
    "    for i, mean_point in enumerate(mean_clusters):\n",
    "        dist = distance.euclidean(lowest_in_outliers,mean_point)\n",
    "        if dist < min_dist:\n",
    "            min_dist = dist\n",
    "            min_cluster_index = i\n",
    "\n",
    "    # threshold of the closest cluster\n",
    "    df_closest = df[df.dbscan_labels == min_cluster_index]\n",
    "    std = np.std(df_closest.Price)\n",
    "    mean = np.mean(df_closest.Price)\n",
    "\n",
    "    thrhd = max(mean - 2 * std, 50)\n",
    "    df_outliers = df[df.dbscan_labels == -1].copy()\n",
    "    lowest_outlier = df_outliers[df_outliers.Price == df_outliers.Price.min()]\n",
    "\n",
    "    if lowest_outlier.Price.values[0] < thrhd:\n",
    "        lowest_outlier.Date_of_Flight = lowest_outlier.Date_of_Flight.apply(lambda x:(start_date+datetime.timedelta(\n",
    "            days=x-1)).strftime('%Y-%m-%d'))\n",
    "        return lowest_outlier[['Date_of_Flight','Price']].reset_index(drop=True)\n",
    "    else:\n",
    "        return 'No good flight price'\n",
    "\n",
    "\n",
    "# task #3 part 2\n",
    "# tho, i don't think this will be useful\n",
    "def task_3_IQR(flgiht_data):\n",
    "    df = flgiht_data\n",
    "    plt.boxplot(df.Price);\n",
    "    plt.title('Boxplot')\n",
    "    plt.savefig('task_3_iqr.png')\n",
    "    Q3 = df.Price.describe()['75%']\n",
    "    Q1 = df.Price.describe()['25%']\n",
    "    IQR = Q3 - Q1\n",
    "    low_bound = Q1 - 1.5 * IQR\n",
    "    rslt = df[df.Price < low_bound]\n",
    "    if rslt.shape[0] != 0:\n",
    "        return rslt\n",
    "    else:\n",
    "        return 'No good flight price'\n",
    "\n",
    "\n",
    "# task #3 part 3\n",
    "def task_3_ec(flight_data):\n",
    "    df = flight_data\n",
    "    pass\n",
    "\n",
    "def task_4_dbscan(flight_data):\n",
    "    df = flight_data\n",
    "\n",
    "\n"
   ]
  },
  {
   "cell_type": "code",
   "execution_count": 525,
   "metadata": {
    "collapsed": false,
    "deletable": true,
    "editable": true
   },
   "outputs": [],
   "source": [
    "df = scrape_data_90(datetime.datetime.now(), 'nyc', 'united states', 'buffalo')"
   ]
  },
  {
   "cell_type": "code",
   "execution_count": 531,
   "metadata": {
    "collapsed": false
   },
   "outputs": [
    {
     "data": {
      "text/html": [
       "<div>\n",
       "<table border=\"1\" class=\"dataframe\">\n",
       "  <thead>\n",
       "    <tr style=\"text-align: right;\">\n",
       "      <th></th>\n",
       "      <th>Date_of_Flight</th>\n",
       "      <th>Price</th>\n",
       "    </tr>\n",
       "  </thead>\n",
       "  <tbody>\n",
       "    <tr>\n",
       "      <th>0</th>\n",
       "      <td>1</td>\n",
       "      <td>283</td>\n",
       "    </tr>\n",
       "    <tr>\n",
       "      <th>1</th>\n",
       "      <td>2</td>\n",
       "      <td>365</td>\n",
       "    </tr>\n",
       "    <tr>\n",
       "      <th>2</th>\n",
       "      <td>3</td>\n",
       "      <td>278</td>\n",
       "    </tr>\n",
       "    <tr>\n",
       "      <th>3</th>\n",
       "      <td>4</td>\n",
       "      <td>248</td>\n",
       "    </tr>\n",
       "    <tr>\n",
       "      <th>4</th>\n",
       "      <td>5</td>\n",
       "      <td>248</td>\n",
       "    </tr>\n",
       "  </tbody>\n",
       "</table>\n",
       "</div>"
      ],
      "text/plain": [
       "   Date_of_Flight  Price\n",
       "0               1    283\n",
       "1               2    365\n",
       "2               3    278\n",
       "3               4    248\n",
       "4               5    248"
      ]
     },
     "execution_count": 531,
     "metadata": {},
     "output_type": "execute_result"
    }
   ],
   "source": [
    "df.head()"
   ]
  },
  {
   "cell_type": "code",
   "execution_count": 527,
   "metadata": {
    "collapsed": false,
    "deletable": true,
    "editable": true
   },
   "outputs": [],
   "source": [
    "df.Date_of_Flight = df.Date_of_Flight.apply(lambda x: (parse(x.split('-')[0].strip())- parse(df.Date_of_Flight[0].split('-')[0].strip())).days+1)"
   ]
  },
  {
   "cell_type": "code",
   "execution_count": 545,
   "metadata": {
    "collapsed": false
   },
   "outputs": [],
   "source": [
    "df = df[['Date_of_Flight','Price']]"
   ]
  },
  {
   "cell_type": "code",
   "execution_count": 546,
   "metadata": {
    "collapsed": false
   },
   "outputs": [
    {
     "data": {
      "text/html": [
       "<div>\n",
       "<table border=\"1\" class=\"dataframe\">\n",
       "  <thead>\n",
       "    <tr style=\"text-align: right;\">\n",
       "      <th></th>\n",
       "      <th>Date_of_Flight</th>\n",
       "      <th>Price</th>\n",
       "    </tr>\n",
       "  </thead>\n",
       "  <tbody>\n",
       "    <tr>\n",
       "      <th>0</th>\n",
       "      <td>1</td>\n",
       "      <td>283</td>\n",
       "    </tr>\n",
       "    <tr>\n",
       "      <th>1</th>\n",
       "      <td>2</td>\n",
       "      <td>365</td>\n",
       "    </tr>\n",
       "    <tr>\n",
       "      <th>2</th>\n",
       "      <td>3</td>\n",
       "      <td>278</td>\n",
       "    </tr>\n",
       "    <tr>\n",
       "      <th>3</th>\n",
       "      <td>4</td>\n",
       "      <td>248</td>\n",
       "    </tr>\n",
       "    <tr>\n",
       "      <th>4</th>\n",
       "      <td>5</td>\n",
       "      <td>248</td>\n",
       "    </tr>\n",
       "  </tbody>\n",
       "</table>\n",
       "</div>"
      ],
      "text/plain": [
       "   Date_of_Flight  Price\n",
       "0               1    283\n",
       "1               2    365\n",
       "2               3    278\n",
       "3               4    248\n",
       "4               5    248"
      ]
     },
     "execution_count": 546,
     "metadata": {},
     "output_type": "execute_result"
    }
   ],
   "source": [
    "df.head()"
   ]
  },
  {
   "cell_type": "code",
   "execution_count": 547,
   "metadata": {
    "collapsed": false
   },
   "outputs": [],
   "source": [
    "scale = np.sqrt(20 ** 2 / 3)\n",
    "scale = math.ceil(scale * 100) / 100\n",
    "radius = np.sqrt(np.square(20) + np.square(scale))\n",
    "X = df.values\n",
    "X = X * np.array([scale,1])\n",
    "db = DBSCAN(eps=radius, min_samples=3).fit(X)\n",
    "df['label'] = db.labels_"
   ]
  },
  {
   "cell_type": "code",
   "execution_count": 548,
   "metadata": {
    "collapsed": false
   },
   "outputs": [
    {
     "data": {
      "text/plain": [
       "array([-1, -1, -1,  0,  0,  0,  0,  0,  0,  1,  1,  1,  1,  1, -1,  2,  2,\n",
       "        2,  2,  2,  2, -1,  3,  3,  3,  3,  4,  4, -1,  4,  4,  4,  4,  4,\n",
       "       -1, -1,  5,  5,  5,  5,  5,  5,  5,  5,  5,  5,  5,  5, -1, -1,  6,\n",
       "        6,  6,  6,  6, -1, -1, -1, -1,  7,  7,  7, -1, -1,  8,  8,  8,  8,\n",
       "        8,  8,  8,  8,  8,  8,  8,  8,  9,  9,  9,  9,  9,  9,  9, 10, 10,\n",
       "       10, 10, 10, 10, 10])"
      ]
     },
     "execution_count": 548,
     "metadata": {},
     "output_type": "execute_result"
    }
   ],
   "source": [
    "db.labels_"
   ]
  },
  {
   "cell_type": "code",
   "execution_count": 533,
   "metadata": {
    "collapsed": false,
    "deletable": true,
    "editable": true
   },
   "outputs": [
    {
     "data": {
      "image/png": "[encoded data removed]",
      "text/plain": [
       "<matplotlib.figure.Figure at 0x7f0b89f9fed0>"
      ]
     },
     "metadata": {},
     "output_type": "display_data"
    }
   ],
   "source": [
    "db = DBSCAN(eps=radius,min_samples=3).fit(X)\n",
    "labels = db.labels_\n",
    "clusters = len(set(labels))\n",
    "unique_labels = set(labels)\n",
    "colors = plt.cm.Spectral(np.linspace(0, 1, len(unique_labels)))\n",
    "\n",
    "plt.subplots(figsize=(12,10))\n",
    "\n",
    "for k, c in zip(unique_labels, colors):\n",
    "    class_member_mask = (labels == k)\n",
    "    xy = X[class_member_mask]\n",
    "    plt.plot(xy[:, 0], xy[:, 1], 'o', markerfacecolor=c,\n",
    "            markeredgecolor='k', markersize=14)\n",
    "\n",
    "plt.title(\"Total Clusters: {}\".format(clusters), fontsize=14, y=1.01)\n",
    "df['label'] = db.labels_"
   ]
  },
  {
   "cell_type": "code",
   "execution_count": 534,
   "metadata": {
    "collapsed": false
   },
   "outputs": [
    {
     "data": {
      "text/html": [
       "<div>\n",
       "<table border=\"1\" class=\"dataframe\">\n",
       "  <thead>\n",
       "    <tr style=\"text-align: right;\">\n",
       "      <th></th>\n",
       "      <th>mean</th>\n",
       "      <th>count</th>\n",
       "    </tr>\n",
       "    <tr>\n",
       "      <th>label</th>\n",
       "      <th></th>\n",
       "      <th></th>\n",
       "    </tr>\n",
       "  </thead>\n",
       "  <tbody>\n",
       "    <tr>\n",
       "      <th>-1</th>\n",
       "      <td>178.333333</td>\n",
       "      <td>42</td>\n",
       "    </tr>\n",
       "    <tr>\n",
       "      <th>0</th>\n",
       "      <td>254.000000</td>\n",
       "      <td>5</td>\n",
       "    </tr>\n",
       "    <tr>\n",
       "      <th>1</th>\n",
       "      <td>186.750000</td>\n",
       "      <td>4</td>\n",
       "    </tr>\n",
       "    <tr>\n",
       "      <th>2</th>\n",
       "      <td>166.750000</td>\n",
       "      <td>4</td>\n",
       "    </tr>\n",
       "    <tr>\n",
       "      <th>3</th>\n",
       "      <td>143.000000</td>\n",
       "      <td>5</td>\n",
       "    </tr>\n",
       "    <tr>\n",
       "      <th>4</th>\n",
       "      <td>134.666667</td>\n",
       "      <td>6</td>\n",
       "    </tr>\n",
       "    <tr>\n",
       "      <th>5</th>\n",
       "      <td>155.500000</td>\n",
       "      <td>4</td>\n",
       "    </tr>\n",
       "    <tr>\n",
       "      <th>6</th>\n",
       "      <td>156.400000</td>\n",
       "      <td>5</td>\n",
       "    </tr>\n",
       "    <tr>\n",
       "      <th>7</th>\n",
       "      <td>133.000000</td>\n",
       "      <td>4</td>\n",
       "    </tr>\n",
       "    <tr>\n",
       "      <th>8</th>\n",
       "      <td>135.000000</td>\n",
       "      <td>5</td>\n",
       "    </tr>\n",
       "    <tr>\n",
       "      <th>9</th>\n",
       "      <td>129.666667</td>\n",
       "      <td>3</td>\n",
       "    </tr>\n",
       "    <tr>\n",
       "      <th>10</th>\n",
       "      <td>136.333333</td>\n",
       "      <td>3</td>\n",
       "    </tr>\n",
       "  </tbody>\n",
       "</table>\n",
       "</div>"
      ],
      "text/plain": [
       "             mean  count\n",
       "label                   \n",
       "-1     178.333333     42\n",
       " 0     254.000000      5\n",
       " 1     186.750000      4\n",
       " 2     166.750000      4\n",
       " 3     143.000000      5\n",
       " 4     134.666667      6\n",
       " 5     155.500000      4\n",
       " 6     156.400000      5\n",
       " 7     133.000000      4\n",
       " 8     135.000000      5\n",
       " 9     129.666667      3\n",
       " 10    136.333333      3"
      ]
     },
     "execution_count": 534,
     "metadata": {},
     "output_type": "execute_result"
    }
   ],
   "source": [
    "df.groupby('label')['Price'].agg(['mean','count'])"
   ]
  },
  {
   "cell_type": "code",
   "execution_count": 535,
   "metadata": {
    "collapsed": false
   },
   "outputs": [
    {
     "data": {
      "text/html": [
       "<div>\n",
       "<table border=\"1\" class=\"dataframe\">\n",
       "  <thead>\n",
       "    <tr style=\"text-align: right;\">\n",
       "      <th></th>\n",
       "      <th>Date_of_Flight</th>\n",
       "      <th>Price</th>\n",
       "    </tr>\n",
       "  </thead>\n",
       "  <tbody>\n",
       "    <tr>\n",
       "      <th>2</th>\n",
       "      <td>3</td>\n",
       "      <td>278</td>\n",
       "    </tr>\n",
       "    <tr>\n",
       "      <th>3</th>\n",
       "      <td>4</td>\n",
       "      <td>248</td>\n",
       "    </tr>\n",
       "    <tr>\n",
       "      <th>4</th>\n",
       "      <td>5</td>\n",
       "      <td>248</td>\n",
       "    </tr>\n",
       "    <tr>\n",
       "      <th>5</th>\n",
       "      <td>6</td>\n",
       "      <td>248</td>\n",
       "    </tr>\n",
       "    <tr>\n",
       "      <th>6</th>\n",
       "      <td>7</td>\n",
       "      <td>248</td>\n",
       "    </tr>\n",
       "  </tbody>\n",
       "</table>\n",
       "</div>"
      ],
      "text/plain": [
       "   Date_of_Flight  Price\n",
       "2               3    278\n",
       "3               4    248\n",
       "4               5    248\n",
       "5               6    248\n",
       "6               7    248"
      ]
     },
     "execution_count": 535,
     "metadata": {},
     "output_type": "execute_result"
    }
   ],
   "source": [
    "one_cluster = df[df.label == 0]\n",
    "one_cluster.loc[2:6, ['Date_of_Flight','Price']]"
   ]
  },
  {
   "cell_type": "code",
   "execution_count": 503,
   "metadata": {
    "collapsed": true
   },
   "outputs": [],
   "source": [
    "start_date = datetime.datetime.now()"
   ]
  },
  {
   "cell_type": "code",
   "execution_count": 541,
   "metadata": {
    "collapsed": false,
    "deletable": true,
    "editable": true
   },
   "outputs": [
    {
     "ename": "ValueError",
     "evalue": "min() arg is an empty sequence",
     "output_type": "error",
     "traceback": [
      "\u001b[0;31m---------------------------------------------------------------------------\u001b[0m",
      "\u001b[0;31mValueError\u001b[0m                                Traceback (most recent call last)",
      "\u001b[0;32m<ipython-input-541-7aeb03da6fe2>\u001b[0m in \u001b[0;36m<module>\u001b[0;34m()\u001b[0m\n\u001b[1;32m     22\u001b[0m                 \u001b[0mlist_of_dfs\u001b[0m\u001b[0;34m.\u001b[0m\u001b[0mappend\u001b[0m\u001b[0;34m(\u001b[0m\u001b[0mdf_five_day\u001b[0m\u001b[0;34m)\u001b[0m\u001b[0;34m\u001b[0m\u001b[0m\n\u001b[1;32m     23\u001b[0m \u001b[0mmeans\u001b[0m \u001b[0;34m=\u001b[0m \u001b[0;34m[\u001b[0m\u001b[0mone_df\u001b[0m\u001b[0;34m.\u001b[0m\u001b[0mPrice\u001b[0m\u001b[0;34m.\u001b[0m\u001b[0mmean\u001b[0m\u001b[0;34m(\u001b[0m\u001b[0;34m)\u001b[0m \u001b[0;32mfor\u001b[0m \u001b[0mone_df\u001b[0m \u001b[0;32min\u001b[0m \u001b[0mlist_of_dfs\u001b[0m\u001b[0;34m]\u001b[0m\u001b[0;34m\u001b[0m\u001b[0m\n\u001b[0;32m---> 24\u001b[0;31m \u001b[0mdf_min_index\u001b[0m \u001b[0;34m=\u001b[0m \u001b[0mmeans\u001b[0m\u001b[0;34m.\u001b[0m\u001b[0mindex\u001b[0m\u001b[0;34m(\u001b[0m\u001b[0mmin\u001b[0m\u001b[0;34m(\u001b[0m\u001b[0mmeans\u001b[0m\u001b[0;34m)\u001b[0m\u001b[0;34m)\u001b[0m\u001b[0;34m\u001b[0m\u001b[0m\n\u001b[0m\u001b[1;32m     25\u001b[0m \u001b[0mlist_of_dfs\u001b[0m\u001b[0;34m[\u001b[0m\u001b[0mdf_min_index\u001b[0m\u001b[0;34m]\u001b[0m\u001b[0;34m\u001b[0m\u001b[0m\n",
      "\u001b[0;31mValueError\u001b[0m: min() arg is an empty sequence"
     ]
    }
   ],
   "source": [
    "list_of_dfs = []\n",
    "for label in unique_labels:\n",
    "    if label != -1:\n",
    "        one_cluster = df[df.label == label]\n",
    "\n",
    "        # find start/end date for every 5-day-consecutive period\n",
    "        consecutive_list = []\n",
    "        days = one_cluster.Date_of_Flight.values\n",
    "        for i in range(len(days) - 4):\n",
    "            if days[i + 4] - days[i] == 4:\n",
    "                consecutive_list.append((days[i], days[i + 4]))\n",
    "\n",
    "        # a list of 5-day-consecutive period dataframes\n",
    "        for start, end in consecutive_list:\n",
    "            df_five_day = one_cluster.loc[start -1:end-1, ['Date_of_Flight','Price']]\n",
    "\n",
    "            if df_five_day.Price.describe()['max'] - df_five_day.Price.describe()['min'] <= 20:\n",
    "                \n",
    "                df_five_day.Date_of_Flight = df_five_day.Date_of_Flight.apply(\n",
    "                        lambda x: (start_date + datetime.timedelta(\n",
    "                            days=x - 1)).strftime('%Y-%m-%d'))\n",
    "                list_of_dfs.append(df_five_day)\n",
    "means = [one_df.Price.mean() for one_df in list_of_dfs]\n",
    "df_min_index = means.index(min(means))\n",
    "list_of_dfs[df_min_index]"
   ]
  },
  {
   "cell_type": "code",
   "execution_count": 423,
   "metadata": {
    "collapsed": false,
    "deletable": true,
    "editable": true
   },
   "outputs": [
    {
     "data": {
      "text/plain": [
       "0"
      ]
     },
     "execution_count": 423,
     "metadata": {},
     "output_type": "execute_result"
    }
   ],
   "source": [
    "df_min_index"
   ]
  },
  {
   "cell_type": "code",
   "execution_count": null,
   "metadata": {
    "collapsed": true,
    "deletable": true,
    "editable": true
   },
   "outputs": [],
   "source": []
  },
  {
   "cell_type": "code",
   "execution_count": null,
   "metadata": {
    "collapsed": true,
    "deletable": true,
    "editable": true
   },
   "outputs": [],
   "source": []
  },
  {
   "cell_type": "code",
   "execution_count": 28,
   "metadata": {
    "collapsed": true,
    "deletable": true,
    "editable": true
   },
   "outputs": [],
   "source": [
    "%matplotlib inline"
   ]
  },
  {
   "cell_type": "code",
   "execution_count": null,
   "metadata": {
    "collapsed": true,
    "deletable": true,
    "editable": true
   },
   "outputs": [],
   "source": []
  }
 ],
 "metadata": {
  "kernelspec": {
   "display_name": "Python 2",
   "language": "python",
   "name": "python2"
  },
  "language_info": {
   "codemirror_mode": {
    "name": "ipython",
    "version": 2
   },
   "file_extension": ".py",
   "mimetype": "text/x-python",
   "name": "python",
   "nbconvert_exporter": "python",
   "pygments_lexer": "ipython2",
   "version": "2.7.13"
  }
 },
 "nbformat": 4,
 "nbformat_minor": 2
}
