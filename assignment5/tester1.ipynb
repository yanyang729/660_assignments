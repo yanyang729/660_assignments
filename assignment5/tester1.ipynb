{
 "cells": [
  {
   "cell_type": "code",
   "execution_count": 1,
   "metadata": {
    "collapsed": false,
    "deletable": true,
    "editable": true
   },
   "outputs": [],
   "source": [
    "%matplotlib inline\n",
    "import matplotlib\n",
    "matplotlib.style.use('ggplot')\n",
    "from selenium import webdriver\n",
    "from selenium.webdriver.common.action_chains import ActionChains\n",
    "from selenium.webdriver.common.keys import Keys\n",
    "import time\n",
    "import datetime\n",
    "from unidecode import unidecode\n",
    "from dateutil.parser import parse\n",
    "import pandas as pd\n",
    "from sklearn.cluster import DBSCAN\n",
    "from sklearn.preprocessing import StandardScaler\n",
    "import numpy as np\n",
    "import matplotlib.pyplot as plt\n",
    "from dateutil.parser import parse\n",
    "import pandas as pd\n",
    "import random\n",
    "import scipy\n",
    "import matplotlib\n",
    "from bs4 import BeautifulSoup\n",
    "matplotlib.style.use('ggplot')\n",
    "import requests\n",
    "import lxml"
   ]
  },
  {
   "cell_type": "code",
   "execution_count": 9,
   "metadata": {
    "collapsed": false,
    "deletable": true,
    "editable": true
   },
   "outputs": [],
   "source": [
    "BASE_URL = 'https://www.google.com/flights/explore/'\n",
    "class ActionChains(ActionChains):\n",
    "    def wait(self, time_s):\n",
    "        self._actions.append(lambda: time.sleep(time_s))\n",
    "        return self\n",
    "\n",
    "start_date = datetime.datetime.now()\n",
    "from_place = 'london'\n",
    "to_place ='norway'\n",
    "city_name = 'tromso'"
   ]
  },
  {
   "cell_type": "code",
   "execution_count": 10,
   "metadata": {
    "collapsed": false,
    "deletable": true,
    "editable": true
   },
   "outputs": [],
   "source": [
    "# modify date\n",
    "driver = webdriver.Chrome('./chromedriver')\n",
    "driver.get(BASE_URL)\n",
    "\n",
    "time.sleep(1)\n",
    "\n",
    "# input from place\n",
    "driver.find_elements_by_css_selector('.LJTSM3-p-a')[0].click()\n",
    "ActionChains(driver).wait(1).send_keys(from_place).perform()\n",
    "ActionChains(driver).wait(1).send_keys(Keys.ENTER).perform()\n",
    "# input to place\n",
    "driver.find_elements_by_css_selector('.LJTSM3-p-a')[1].click()\n",
    "ActionChains(driver).wait(1).send_keys(to_place).perform()\n",
    "ActionChains(driver).wait(1).send_keys(Keys.ENTER).perform()\n",
    "\n",
    "time.sleep(1)\n",
    "\n",
    "start_date = start_date.strftime('%Y-%m-%d')\n",
    "URL = driver.current_url[:-10] + start_date\n",
    "driver.get(URL)\n",
    "\n",
    "time.sleep(1)\n",
    "\n",
    "cities = driver.find_elements_by_css_selector('.LJTSM3-v-c')\n",
    "city_names = [unidecode(n.text) for n in cities]\n",
    "n_th = None\n",
    "for i, name in enumerate(city_names):\n",
    "    if city_name.lower() in name.lower():\n",
    "        n_th = i\n",
    "        \n"
   ]
  },
  {
   "cell_type": "code",
   "execution_count": 11,
   "metadata": {
    "collapsed": true,
    "deletable": true,
    "editable": true
   },
   "outputs": [],
   "source": [
    "target = driver.find_elements_by_class_name('LJTSM3-v-d')[n_th]\n",
    "bars = target.find_elements_by_class_name('LJTSM3-w-x')\n",
    "prices = []\n",
    "dates = []\n",
    "for bar in bars:\n",
    "    ActionChains(driver).wait(0.01).move_to_element(bar).perform()\n",
    "    price = driver.find_element_by_class_name('LJTSM3-w-w').text.replace('$','')\n",
    "    date = driver.find_element_by_class_name('LJTSM3-w-h').text\n",
    "    prices.append(price)\n",
    "    dates.append(date)\n",
    "df = pd.DataFrame({'Date_of_Flight':dates,'Price':prices})\n",
    "driver.quit()"
   ]
  },
  {
   "cell_type": "code",
   "execution_count": 9,
   "metadata": {
    "collapsed": true,
    "deletable": true,
    "editable": true
   },
   "outputs": [],
   "source": [
    "url = 'https://www.google.com/flights/explore/#explore;f=LHR,LGW,STN,LTN,LCY,SEN,QQS;t=r-Belgium-0x47c17d64edf39797%253A0x47ebf2b439e60ff2;li=3;lx=5;d=2017-03-24'"
   ]
  },
  {
   "cell_type": "code",
   "execution_count": 12,
   "metadata": {
    "collapsed": true
   },
   "outputs": [],
   "source": [
    "driver = webdriver.Chrome('./chromedriver')\n",
    "driver.get(url)"
   ]
  },
  {
   "cell_type": "code",
   "execution_count": 17,
   "metadata": {
    "collapsed": false
   },
   "outputs": [
    {
     "data": {
      "text/plain": [
       "u'5px'"
      ]
     },
     "execution_count": 17,
     "metadata": {},
     "output_type": "execute_result"
    }
   ],
   "source": [
    "driver.find_elements_by_class_name('LJTSM3-w-x')[0].get_attribute('style').split('height:')[-1].replace(';','').strip()"
   ]
  },
  {
   "cell_type": "code",
   "execution_count": null,
   "metadata": {
    "collapsed": true
   },
   "outputs": [],
   "source": []
  }
 ],
 "metadata": {
  "kernelspec": {
   "display_name": "Python 2",
   "language": "python",
   "name": "python2"
  },
  "language_info": {
   "codemirror_mode": {
    "name": "ipython",
    "version": 2
   },
   "file_extension": ".py",
   "mimetype": "text/x-python",
   "name": "python",
   "nbconvert_exporter": "python",
   "pygments_lexer": "ipython2",
   "version": "2.7.13"
  }
 },
 "nbformat": 4,
 "nbformat_minor": 2
}
